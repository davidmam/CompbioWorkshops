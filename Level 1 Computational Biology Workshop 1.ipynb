{
 "cells": [
  {
   "cell_type": "markdown",
   "id": "6ef9c62e",
   "metadata": {},
   "source": [
    "# Computational Biology Workshop 1\n",
    "\n",
    "## Calculating Buffers\n",
    "\n",
    "This notebook uses the Python programming language to perform some simple calculations on buffers. To run any cell ensure it is highlighted and press CTRL-ENTER\n",
    "\n",
    "This introduces some of the concepts in the Python language. For a credit bearing course take BS21010 Introduction to Programming for Biologists.\n",
    "\n",
    "Feel free to modify and play around as indicated in the text below."
   ]
  },
  {
   "cell_type": "code",
   "execution_count": 1,
   "id": "a3bcdc1e",
   "metadata": {},
   "outputs": [
    {
     "data": {
      "text/plain": [
       "3"
      ]
     },
     "execution_count": 1,
     "metadata": {},
     "output_type": "execute_result"
    }
   ],
   "source": [
    "# This is a comment in a coding cell. Note the In: [ ] text at the left hand side.\n",
    "\n",
    "1 + 2\n",
    "\n",
    "# simple addition.Press CTRL-ENTER to see the result"
   ]
  },
  {
   "cell_type": "markdown",
   "id": "be20dc78",
   "metadata": {},
   "source": [
    "The raw numbers above are literals, exactly that value. Instead of using specific numbers, which may be hard to understand when reading the code (what does 1 represent here?) we can use named values, known as variables. The names we use can be anything as long as they conform to a few simple rules:\n",
    "\n",
    "    * They must start with a letter or underscore `_`\n",
    "    * They must not have any characters other than alphanumeric or underscore (no punctuation, spaces, symbols)\n",
    "    * they must not be a reserved word (these are typically python commands)"
   ]
  },
  {
   "cell_type": "code",
   "execution_count": 3,
   "id": "b6463b44",
   "metadata": {},
   "outputs": [],
   "source": [
    "mass_acid = 56.8\n",
    "# set the variable mass_acid to have the value 56.8, this is in grams."
   ]
  },
  {
   "cell_type": "markdown",
   "id": "33d31104",
   "metadata": {},
   "source": [
    "We can then use these variables in place of values, so any value can be calculated using labels for the values instead of having to write the specific values. By using variables we don't have to change most of the code, just setting the values once. \n"
   ]
  },
  {
   "cell_type": "code",
   "execution_count": 4,
   "id": "ae1bee99",
   "metadata": {},
   "outputs": [
    {
     "name": "stdout",
     "output_type": "stream",
     "text": [
      "The number of moles is  0.9458469326583627\n"
     ]
    }
   ],
   "source": [
    "rmm_acid = 60.052 # Relative Molecular Mass for acetic acid\n",
    "\n",
    "moles_acid = mass_acid/rmm_acid\n",
    "\n",
    "print(\"The number of moles is \", moles_acid) # Note the text is between \"quotes\""
   ]
  },
  {
   "cell_type": "markdown",
   "id": "39e625ce",
   "metadata": {},
   "source": [
    "So we can set out all the logic for our calculation using names instead of numbers, then calculate the result for whichever numbers we feed in."
   ]
  },
  {
   "cell_type": "code",
   "execution_count": null,
   "id": "2e95adc4",
   "metadata": {},
   "outputs": [],
   "source": [
    "# Try it yourself. Create the variables mass_base  to hold values for the sodium base of Acetic acid, Sodium acetate, with a RMM of 82.0343. \n",
    "# Use whatever mass you like to calculate the number of moles and store it in the variable moles_base.\n"
   ]
  },
  {
   "cell_type": "markdown",
   "id": "6c8060d1",
   "metadata": {},
   "source": [
    "The equation for buffers is\n",
    "\n",
    "$ pH = pK_a + \\log_{10}(\\frac{[Base]}{[Acid]})$\n",
    "\n",
    "The pKa for Acetate is 4.75\n",
    "\n",
    "We need to import the Math package to get the log function. \n",
    "\n",
    "the log function is called as `math.log(number, base)` where number is the number from which to calculate the logarithm, and base is the base (in this case base 10)"
   ]
  },
  {
   "cell_type": "code",
   "execution_count": 8,
   "id": "a7fdf015",
   "metadata": {},
   "outputs": [
    {
     "name": "stdout",
     "output_type": "stream",
     "text": [
      "The pH is  4.075209135880058\n"
     ]
    }
   ],
   "source": [
    "import math\n",
    "\n",
    "pKa = 4.75\n",
    "\n",
    "pH = pKa + math.log(moles_base/moles_acid, 10)\n",
    "\n",
    "print(\"The pH is \", pH)"
   ]
  },
  {
   "cell_type": "markdown",
   "id": "9696f7e8",
   "metadata": {},
   "source": [
    "This gives us the pH with a given acid and base composition. Of more interest would be calculating how much of each component we would need to create a chosen volume of a buffer of a defined pH and concentration.\n",
    "\n",
    "We would need to:\n",
    "\n",
    "    1. Rearrange the equation to get the base to acid ratio. This gives us a number of moles of base for every mole of acid.\n",
    "    2. Calculate how much we need of the conjugate base to give the overall concentration."
   ]
  },
  {
   "cell_type": "code",
   "execution_count": 11,
   "id": "5d6901d4",
   "metadata": {},
   "outputs": [
    {
     "name": "stdout",
     "output_type": "stream",
     "text": [
      "2.2387211385683377\n"
     ]
    }
   ],
   "source": [
    "# Step 1. Rearrange to calculate the base/acid ratio\n",
    "#set the desired pH\n",
    "\n",
    "pH = 5.1\n",
    "\n",
    "base_to_acid = 10**(pH - pKa)\n",
    "\n"
   ]
  },
  {
   "cell_type": "markdown",
   "id": "59b0dae7",
   "metadata": {},
   "source": [
    "The total relative concentration of the conjugate base ( $CH_3COO^-$ ) is the sum of the acid ( $𝐶𝐻_3𝐶𝑂𝑂^−H^+$ ) and base ( $𝐶𝐻_3𝐶𝑂𝑂^−Na^+$ ) concentrations. In this case it will be base_to_acid + 1  from which we can then calculate the concentration required of each compound."
   ]
  },
  {
   "cell_type": "code",
   "execution_count": null,
   "id": "6cf73a15",
   "metadata": {},
   "outputs": [],
   "source": [
    "buffer_conc = 0.1 # desired concentration in moles/litre\n",
    "buffer_vol = 0.5 # desired volume in litres.\n",
    "\n",
    "relative_conc = 1 + base_to_acid # total relative concentration\n",
    "\n",
    "moles_acid = 1/relative_conc * buffer_conc * buffer_vol\n",
    "\n",
    "# add the calculation for the moles of base required. This is the proportion of the \n",
    "# conjugate base that comes from base and is calculated as base_to_acid divided by the relative concentration.\n",
    "\n",
    "moles_base = #fill this in here.\n",
    "\n"
   ]
  },
  {
   "cell_type": "markdown",
   "id": "270f99c6",
   "metadata": {},
   "source": [
    "All that is let to do is to do now is to calculate the mass of each that we require."
   ]
  },
  {
   "cell_type": "code",
   "execution_count": null,
   "id": "d70d68b8",
   "metadata": {},
   "outputs": [],
   "source": [
    "mass_acid = moles_acid* rmm_acid\n",
    "\n",
    "# calculate the mass of base required.\n",
    "\n",
    "print( \"To make \",buffer_vol,\"litres of \",buffer_conc,\" M buffer at pH \",pH, \" add \",mass_acid, \"g acid and \",mass_base,\" g base\")"
   ]
  },
  {
   "cell_type": "markdown",
   "id": "dfe502e4",
   "metadata": {},
   "source": [
    "We can then put all of this together in one block and make it a bit more user friendly by getting the user to enter the desired values."
   ]
  },
  {
   "cell_type": "code",
   "execution_count": null,
   "id": "07b1b294",
   "metadata": {},
   "outputs": [],
   "source": [
    "pH = float(input(\"What pH is required? \"))\n",
    "rmm_acid= float(input(\"What is the RMM of the acid? \"))\n",
    "rmm_base =float(input(\"What is the RMM of the base? \"))\n",
    "buffer_conc =float(input(\"What is the final concentration in M? \"))\n",
    "buffer_vol =float(input(\"What is the final volume? \"))\n",
    "pKa = float(input(\"What is the buffer pKa\"))\n",
    "\n",
    "base_to_acid = 10**(pH - pKa)\n",
    "relative_conc = 1 + base_to_acid # total relative concentration\n",
    "\n",
    "moles_acid = 1/relative_conc * buffer_conc * buffer_vol\n",
    "moles_base = base_to_acid/relative_conc * buffer_conc * buffer_vol\n",
    "\n",
    "mass_acid = moles_acid* rmm_acid\n",
    "\n",
    "mass_base = moles_base* rmm_base\n",
    "\n",
    "\n",
    "print( \"To make \",buffer_vol,\"litres of \",buffer_conc,\" M buffer at pH \",pH, \" add \",mass_acid, \"g acid and \",mass_base,\" g base\")\n"
   ]
  },
  {
   "cell_type": "markdown",
   "id": "f035de96",
   "metadata": {},
   "source": [
    "## Let's take this a bit further\n",
    "\n",
    "It is a bit awkward having to look up all the values we need every time. We can store these in a data structure that can then be used time and time again.\n",
    "\n",
    "To do this we will use a dictionary, a data structure in which we store all the values by keyword."
   ]
  },
  {
   "cell_type": "code",
   "execution_count": 15,
   "id": "c4761c27",
   "metadata": {},
   "outputs": [
    {
     "name": "stdout",
     "output_type": "stream",
     "text": [
      "Available buffers:\n",
      "1 Acetate\n",
      "2 Bicarbonate\n",
      "Choose a buffer: 1\n",
      "What pH is required? 5.2\n",
      "What is the final concentration in M? 0.2\n",
      "What is the final volume? 1\n",
      "To make 1.0 litres of 0.2M buffer at pH 5.2 add 3.15g Acetic Acid  and 12.11g Sodium Acetate\n"
     ]
    }
   ],
   "source": [
    "buffers = { 'Acetate' : {\n",
    "                       'pKa': 4.75, 'rmm_acid': 60.052, 'name_acid' : 'Acetic Acid','rmm_base': 82.0343, 'name_base': 'Sodium Acetate'\n",
    "                        },\n",
    "           'Bicarbonate': {'pKa': 10.33, 'rmm_acid': 84.01, 'name_acid': 'Sodium Bicarbonate', 'rmm_base': 105.99, 'name_base': 'Sodium Carbonate'}\n",
    "          }\n",
    "\n",
    "# get the list of names.\n",
    "\n",
    "buffer_names = list(buffers.keys())\n",
    "\n",
    "print('Available buffers:')\n",
    "c = 1 # create a counter\n",
    "for b in buffer_names: # loop through every buffer name\n",
    "    print(c, b) # everything in the loop is indented.\n",
    "    c = c+1 \n",
    "buffid = int(input('Choose a buffer: '))\n",
    "\n",
    "rmm_acid= buffers[buffer_names[buffid -1]]['rmm_acid']\n",
    "rmm_base = buffers[buffer_names[buffid -1]]['rmm_base']\n",
    "pKa = buffers[buffer_names[buffid -1]]['pKa']\n",
    "name_acid = buffers[buffer_names[buffid -1]]['name_acid']\n",
    "name_base = buffers[buffer_names[buffid -1]]['name_base']\n",
    "\n",
    "pH = float(input(\"What pH is required? \"))\n",
    "# do a sanity check\n",
    "\n",
    "if pH < pKa - 2 or pH > pKa + 2:\n",
    "    print(\"This is not a good buffer choice\")\n",
    "\n",
    "buffer_conc =float(input(\"What is the final concentration in M? \"))\n",
    "buffer_vol =float(input(\"What is the final volume? \"))\n",
    "\n",
    "base_to_acid = 10**(pH - pKa)\n",
    "relative_conc = 1 + base_to_acid # total relative concentration\n",
    "\n",
    "moles_acid = 1/relative_conc * buffer_conc * buffer_vol\n",
    "moles_base = base_to_acid/relative_conc * buffer_conc * buffer_vol\n",
    "\n",
    "mass_acid = moles_acid* rmm_acid\n",
    "\n",
    "mass_base = moles_base* rmm_base\n",
    "\n",
    "# Using string formatting\n",
    "print( F\"To make {buffer_vol} litres of {buffer_conc}M buffer at pH {pH} add {mass_acid:.2f}g {name_acid}  and {mass_base:.2f}g {name_base}\")\n"
   ]
  },
  {
   "cell_type": "markdown",
   "id": "3f55bfea",
   "metadata": {},
   "source": [
    "Try adding another buffer to the buffers dictionary. Remember to follow the format exactly, put a `,` between the items, `\"` around the text items and the `:` between the key and the value. \n",
    "\n",
    "A suitable buffer would be Carbonate buffer (pKa 6.35) where the acid is carbonic acid (RMM 62.02) and the base is Sodium Bicarbonate, or phosphate buffer with a pKa of 6.8. Other buffers are left to the literature searching skills of the reader."
   ]
  }
 ],
 "metadata": {
  "kernelspec": {
   "display_name": "Python 3",
   "language": "python",
   "name": "python3"
  },
  "language_info": {
   "codemirror_mode": {
    "name": "ipython",
    "version": 3
   },
   "file_extension": ".py",
   "mimetype": "text/x-python",
   "name": "python",
   "nbconvert_exporter": "python",
   "pygments_lexer": "ipython3",
   "version": "3.8.8"
  }
 },
 "nbformat": 4,
 "nbformat_minor": 5
}
